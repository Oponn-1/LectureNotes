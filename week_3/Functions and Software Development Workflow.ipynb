{
 "cells": [
  {
   "cell_type": "markdown",
   "metadata": {},
   "source": [
    "# Functions And Software Development Workflow\n",
    "Key points\n",
    "- Motivating example and philosopy\n",
    "  - Building block\n",
    "  - Signature: name, inputs, and outputs\n",
    "  - How to describe a function\n",
    "- Python function syntax\n",
    "- Naming scoping in functions\n",
    "- Example\n",
    "- Function Driven Workflow"
   ]
  },
  {
   "cell_type": "markdown",
   "metadata": {},
   "source": [
    "## Motivating Example and Philosphy"
   ]
  },
  {
   "cell_type": "code",
   "execution_count": null,
   "metadata": {},
   "outputs": [],
   "source": [
    "# Our prime number example from week 1\n",
    "N = 100\n",
    "for candidate in range(2, N):\n",
    "    # n is candidate prime. Check if n is prime\n",
    "    is_prime = True\n",
    "    for m in range(2, candidate):\n",
    "        if (candidate % m) == 0:\n",
    "            is_prime = False\n",
    "            break\n",
    "    if is_prime:\n",
    "        print(\"%d is prime!\" % candidate)"
   ]
  },
  {
   "cell_type": "markdown",
   "metadata": {},
   "source": [
    "Some questions\n",
    "1. How can we re-structure this function in terms of reusable components?\n",
    "1. What is needed to define a reusable component?"
   ]
  },
  {
   "cell_type": "markdown",
   "metadata": {},
   "source": [
    "## Python Function Syntax"
   ]
  },
  {
   "cell_type": "markdown",
   "metadata": {},
   "source": [
    "## Name Scoping in Functions"
   ]
  },
  {
   "cell_type": "markdown",
   "metadata": {},
   "source": [
    "## Example\n",
    "1. Find which substrings are present in a string.\n",
    "\n",
    "1. For example, consider the string \"The lazy brown fox jumped over the fence.\" Which of the following substrings is present: \"ow\", \"low\", \"row\" and how many occurrences are there?\n",
    "\n",
    "1. Write a function that produces the desired result for this example."
   ]
  },
  {
   "cell_type": "markdown",
   "metadata": {},
   "source": [
    "## Function Driven Workflow\n",
    "- Script in a notebook\n",
    "  - Create functions from scripts\n",
    "- Copy functions in a python module\n",
    "- Replace functions in notebook with use of functions in module\n",
    "  - To use a function inside a notebook, you must ``import`` its containint module."
   ]
  },
  {
   "cell_type": "markdown",
   "metadata": {},
   "source": []
  }
 ],
 "metadata": {
  "kernelspec": {
   "display_name": "Python 3",
   "language": "python",
   "name": "python3"
  },
  "language_info": {
   "codemirror_mode": {
    "name": "ipython",
    "version": 3
   },
   "file_extension": ".py",
   "mimetype": "text/x-python",
   "name": "python",
   "nbconvert_exporter": "python",
   "pygments_lexer": "ipython3",
   "version": "3.6.4"
  }
 },
 "nbformat": 4,
 "nbformat_minor": 2
}
