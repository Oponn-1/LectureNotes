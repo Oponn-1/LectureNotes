{
 "cells": [
  {
   "cell_type": "markdown",
   "metadata": {},
   "source": [
    "# Data Basics\n",
    "\n",
    "## Overview\n",
    "- **Data basics**\n",
    "  - Theory of types\n",
    "  - Basic types\n",
    "  - Composite types: Tuples, lists and dictionaries\n",
    "- Functions\n",
    "   * range() function\n",
    "   - read and write files\n",
    "- Flow control, part 1\n",
    "  - If\n",
    "  - for"
   ]
  },
  {
   "cell_type": "markdown",
   "metadata": {},
   "source": [
    "## Data Basics"
   ]
  },
  {
   "cell_type": "markdown",
   "metadata": {},
   "source": [
    "### Core concepts\n",
    "- An **object** is an element used in and possibly maniuplated by software.\n",
    "- Objects have two kinds of **attributes**\n",
    "  - **Properties** (\"values\")\n",
    "  - **Methods** (\"functions\")\n",
    "- To access the attributes of a python object, use the dot (\".\") operator.\n",
    "- A **type** (or **class**) specifies a set of attributes supported by an object."
   ]
  },
  {
   "cell_type": "markdown",
   "metadata": {},
   "source": [
    "### Basic types\n",
    "- int, float, string, bool\n",
    "- relating types"
   ]
  },
  {
   "cell_type": "markdown",
   "metadata": {},
   "source": [
    "### Advanced types"
   ]
  },
  {
   "cell_type": "markdown",
   "metadata": {},
   "source": [
    "#### Tuples\n",
    "\n",
    "Let's begin by creating a tuple called `my_tuple` that contains three elements."
   ]
  },
  {
   "cell_type": "code",
   "execution_count": null,
   "metadata": {},
   "outputs": [],
   "source": [
    "my_tuple = ('I', 'like', 'cake')\n",
    "my_tuple"
   ]
  },
  {
   "cell_type": "markdown",
   "metadata": {},
   "source": [
    "Tuples are simple containers for data.  They are ordered, meaining the order the elements are in when the tuple is created are preserved.  We can get values from our tuple by using array indexing, similar to what we were doing with pandas."
   ]
  },
  {
   "cell_type": "code",
   "execution_count": null,
   "metadata": {},
   "outputs": [],
   "source": [
    "my_tuple[0]"
   ]
  },
  {
   "cell_type": "markdown",
   "metadata": {},
   "source": [
    "Recall that Python indexes start at 0.  So the first element in a tuple is 0 and the last is array length - 1.  You can also address from the `end` to the `front` by using negative (`-`) indexes, e.g."
   ]
  },
  {
   "cell_type": "code",
   "execution_count": null,
   "metadata": {},
   "outputs": [],
   "source": [
    "my_tuple[-1]"
   ]
  },
  {
   "cell_type": "markdown",
   "metadata": {},
   "source": [
    "You can also access a range of elements, e.g. the first two, the first three, by using the `:` to expand a range.  This is called ``slicing``."
   ]
  },
  {
   "cell_type": "code",
   "execution_count": null,
   "metadata": {},
   "outputs": [],
   "source": [
    "my_tuple[0:2]"
   ]
  },
  {
   "cell_type": "code",
   "execution_count": null,
   "metadata": {},
   "outputs": [],
   "source": [
    "my_tuple[0:3]"
   ]
  },
  {
   "cell_type": "markdown",
   "metadata": {},
   "source": [
    "What do you notice about how the upper bound is referenced?"
   ]
  },
  {
   "cell_type": "markdown",
   "metadata": {},
   "source": []
  },
  {
   "cell_type": "markdown",
   "metadata": {},
   "source": [
    "Without either end, the ``:`` expands to the entire list."
   ]
  },
  {
   "cell_type": "code",
   "execution_count": null,
   "metadata": {},
   "outputs": [],
   "source": [
    "my_tuple[1:]"
   ]
  },
  {
   "cell_type": "code",
   "execution_count": null,
   "metadata": {},
   "outputs": [],
   "source": [
    "my_tuple[:-1]"
   ]
  },
  {
   "cell_type": "code",
   "execution_count": null,
   "metadata": {},
   "outputs": [],
   "source": [
    "my_tuple[:]"
   ]
  },
  {
   "cell_type": "markdown",
   "metadata": {},
   "source": [
    "Tuples have a key feature that distinguishes them from other types of object containers in Python.  They are _immutable_.  This means that once the values are set, they cannot change."
   ]
  },
  {
   "cell_type": "code",
   "execution_count": null,
   "metadata": {},
   "outputs": [],
   "source": [
    "my_tuple[2]"
   ]
  },
  {
   "cell_type": "markdown",
   "metadata": {},
   "source": [
    "So what happens if I decide that I really prefer pie over cake?"
   ]
  },
  {
   "cell_type": "code",
   "execution_count": null,
   "metadata": {},
   "outputs": [],
   "source": [
    "#my_tuple[2] = 'pie'"
   ]
  },
  {
   "cell_type": "markdown",
   "metadata": {},
   "source": [
    "Facts about tuples:\n",
    "* You can't add elements to a tuple. Tuples have no append or extend method.\n",
    "* You can't remove elements from a tuple. Tuples have no remove or pop method.\n",
    "* You can also use the in operator to check if an element exists in the tuple.\n",
    "\n",
    "So then, what are the use cases of tuples?  \n",
    "* Speed\n",
    "* `Write-protects` data that other pieces of code should not alter"
   ]
  },
  {
   "cell_type": "markdown",
   "metadata": {},
   "source": [
    "<hr>\n",
    "\n",
    "### Lists\n",
    "\n",
    "Let's begin by creating a list called `my_list` that contains three elements."
   ]
  },
  {
   "cell_type": "code",
   "execution_count": 6,
   "metadata": {},
   "outputs": [],
   "source": [
    "my_list = ['I', 'like', 'cake']"
   ]
  },
  {
   "cell_type": "markdown",
   "metadata": {},
   "source": [
    "At first glance, tuples and lists look pretty similar.  Notice the lists use '[' and ']' instead of '(' and ')'.  But indexing and refering to the first entry as 0 and the last as -1 still works the same."
   ]
  },
  {
   "cell_type": "code",
   "execution_count": null,
   "metadata": {},
   "outputs": [],
   "source": [
    "my_list[0]"
   ]
  },
  {
   "cell_type": "code",
   "execution_count": null,
   "metadata": {},
   "outputs": [],
   "source": [
    "my_list[-1]"
   ]
  },
  {
   "cell_type": "code",
   "execution_count": null,
   "metadata": {},
   "outputs": [],
   "source": [
    "my_list[0:3]"
   ]
  },
  {
   "cell_type": "markdown",
   "metadata": {},
   "source": [
    "Lists, however, unlike tuples, are mutable.  "
   ]
  },
  {
   "cell_type": "code",
   "execution_count": null,
   "metadata": {},
   "outputs": [],
   "source": [
    "my_list[2] = 'pie'\n",
    "my_list"
   ]
  },
  {
   "cell_type": "code",
   "execution_count": 7,
   "metadata": {},
   "outputs": [
    {
     "data": {
      "text/plain": [
       "2"
      ]
     },
     "execution_count": 7,
     "metadata": {},
     "output_type": "execute_result"
    }
   ],
   "source": [
    "# Some methods for lists\n",
    "my_list.index(\"cake\")"
   ]
  },
  {
   "cell_type": "markdown",
   "metadata": {},
   "source": [
    "There are other useful methods on lists, including:\n",
    "\n",
    "| methods  |  description  |\n",
    "|---|---|\n",
    "| list.append(obj)  | Appends object obj to list  |\n",
    "| list.count(obj)| Returns count of how many times obj occurs in list  |\n",
    "| list.extend(seq)  | Appends the contents of seq to list  |\n",
    "| list.index(obj)  | Returns the lowest index in list that obj appears  |\n",
    "| list.insert(index, obj)  | Inserts object obj into list at offset index  |\n",
    "| list.pop(obj=list[-1])  | Removes and returns last object or obj from list  |\n",
    "| list.remove(obj)  | Removes object obj from list  |\n",
    "| list.reverse()  |  Reverses objects of list in place |\n",
    "| list.sort([func])  | Sort objects of list, use compare func, if given  |\n",
    "\n",
    "Try some of them now.\n",
    "\n",
    "```\n",
    "my_list.count('I')\n",
    "my_list\n",
    "\n",
    "my_list.append('I')\n",
    "my_list\n",
    "\n",
    "my_list.count('I')\n",
    "my_list\n",
    "\n",
    "#my_list.index(42)\n",
    "\n",
    "my_list.index('puppies')\n",
    "my_list\n",
    "\n",
    "my_list.insert(my_list.index('puppies'), 'furry')\n",
    "my_list\n",
    "```"
   ]
  },
  {
   "cell_type": "markdown",
   "metadata": {},
   "source": [
    "### Dictionaries\n",
    "<hr>\n",
    "\n",
    "Dictionaries are similar to tuples and lists in that they hold a collection of objects.  Dictionaries, however, allow an additional indexing mode: keys.  Think of a real dictionary where the elements in it are the definitions of the words and the keys to retrieve the entries are the words themselves.\n",
    "\n",
    "| word | definition |\n",
    "|------|------------|\n",
    "| tuple | An immutable collection of ordered objects |\n",
    "| list | A mutable collection of ordered objects |\n",
    "| dictionary | A mutable collection of named objects |\n",
    "\n",
    "Let's create this data structure now.  Dictionaries, like tuples and elements use a unique referencing method, '{' and its evil twin '}'."
   ]
  },
  {
   "cell_type": "code",
   "execution_count": null,
   "metadata": {},
   "outputs": [],
   "source": [
    "my_dict = { 'tuple' : 'An immutable collection of ordered objects',\n",
    "            'list' : 'A mutable collection of ordered objects',\n",
    "            'dictionary' : 'A mutable collection of objects' }\n",
    "my_dict"
   ]
  },
  {
   "cell_type": "markdown",
   "metadata": {},
   "source": [
    "We access items in the dictionary by name, e.g. "
   ]
  },
  {
   "cell_type": "code",
   "execution_count": null,
   "metadata": {},
   "outputs": [],
   "source": [
    "my_dict['dictionary']"
   ]
  },
  {
   "cell_type": "markdown",
   "metadata": {},
   "source": [
    "Since the dictionary is mutable, you can change the entries."
   ]
  },
  {
   "cell_type": "code",
   "execution_count": null,
   "metadata": {},
   "outputs": [],
   "source": [
    "my_dict['dictionary'] = 'A mutable collection of named objects'\n",
    "my_dict"
   ]
  },
  {
   "cell_type": "markdown",
   "metadata": {},
   "source": [
    "Notice that ordering is not preserved!\n",
    "\n",
    "And we can add new items to the list."
   ]
  },
  {
   "cell_type": "code",
   "execution_count": null,
   "metadata": {},
   "outputs": [],
   "source": [
    "my_dict['cabbage'] = 'Green leafy plant in the Brassica family'\n",
    "my_dict"
   ]
  },
  {
   "cell_type": "markdown",
   "metadata": {},
   "source": [
    "To delete an entry, we can't just set it to ``None``"
   ]
  },
  {
   "cell_type": "code",
   "execution_count": null,
   "metadata": {},
   "outputs": [],
   "source": [
    "my_dict['cabbage'] = None\n",
    "my_dict"
   ]
  },
  {
   "cell_type": "markdown",
   "metadata": {},
   "source": [
    "To delete it propery, we need to pop that specific entry."
   ]
  },
  {
   "cell_type": "code",
   "execution_count": null,
   "metadata": {},
   "outputs": [],
   "source": [
    "my_dict.pop('cabbage', None)\n",
    "my_dict"
   ]
  },
  {
   "cell_type": "markdown",
   "metadata": {},
   "source": [
    "You can use other objects as names, but that is a topic for another time.  You can mix and match key types, e.g."
   ]
  },
  {
   "cell_type": "code",
   "execution_count": null,
   "metadata": {},
   "outputs": [],
   "source": [
    "my_new_dict = {}\n",
    "my_new_dict[1] = 'One'\n",
    "my_new_dict['42'] = 42\n",
    "my_new_dict"
   ]
  },
  {
   "cell_type": "markdown",
   "metadata": {},
   "source": [
    "You can get a list of keys in the dictionary by using the ``keys`` method."
   ]
  },
  {
   "cell_type": "code",
   "execution_count": null,
   "metadata": {},
   "outputs": [],
   "source": [
    "my_dict.keys()"
   ]
  },
  {
   "cell_type": "markdown",
   "metadata": {},
   "source": [
    "Similarly the contents of the dictionary with the ``items`` method."
   ]
  },
  {
   "cell_type": "code",
   "execution_count": null,
   "metadata": {},
   "outputs": [],
   "source": [
    "my_dict.items()"
   ]
  },
  {
   "cell_type": "markdown",
   "metadata": {},
   "source": [
    "We can use the keys list for fun stuff, e.g. with the ``in`` operator."
   ]
  },
  {
   "cell_type": "code",
   "execution_count": null,
   "metadata": {},
   "outputs": [],
   "source": [
    "'dictionary' in my_dict.keys()"
   ]
  },
  {
   "cell_type": "markdown",
   "metadata": {},
   "source": [
    "This is a synonym for `in my_dict`"
   ]
  },
  {
   "cell_type": "code",
   "execution_count": null,
   "metadata": {},
   "outputs": [],
   "source": [
    "'dictionary' in my_dict"
   ]
  },
  {
   "cell_type": "markdown",
   "metadata": {},
   "source": [
    "Notice, it doesn't work for elements."
   ]
  },
  {
   "cell_type": "code",
   "execution_count": null,
   "metadata": {},
   "outputs": [],
   "source": [
    "'A mutable collection of ordered objects' in my_dict"
   ]
  },
  {
   "cell_type": "markdown",
   "metadata": {},
   "source": [
    "Other dictionary methods:\n",
    "\n",
    "| methods  |  description  |\n",
    "|---|---|\n",
    "| dict.clear() | Removes all elements from dict |\n",
    "| dict.get(key, default=None) | For ``key`` key, returns value or ``default`` if key doesn't exist in dict | \n",
    "| dict.items() | Returns a list of dicts (key, value) tuple pairs | \n",
    "| dict.keys() | Returns a list of dictionary keys |\n",
    "| dict.setdefault(key, default=None) | Similar to get, but set the value of key if it doesn't exist in dict |\n",
    "| dict.update(dict2) | Add the key / value pairs in dict2 to dict |\n",
    "| dict.values | Returns a list of dictionary values|"
   ]
  }
 ],
 "metadata": {
  "kernelspec": {
   "display_name": "Python 3",
   "language": "python",
   "name": "python3"
  },
  "language_info": {
   "codemirror_mode": {
    "name": "ipython",
    "version": 3
   },
   "file_extension": ".py",
   "mimetype": "text/x-python",
   "name": "python",
   "nbconvert_exporter": "python",
   "pygments_lexer": "ipython3",
   "version": "3.6.4"
  }
 },
 "nbformat": 4,
 "nbformat_minor": 1
}
